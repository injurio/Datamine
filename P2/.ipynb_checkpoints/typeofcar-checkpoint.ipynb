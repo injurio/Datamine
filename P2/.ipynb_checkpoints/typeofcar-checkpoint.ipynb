{
 "cells": [
  {
   "cell_type": "code",
   "execution_count": 2,
   "metadata": {},
   "outputs": [],
   "source": [
    "import pandas as pd\n",
    "import numpy as np\n",
    "import seaborn as sns\n",
    "import matplotlib.pyplot as plt\n",
    "from sklearn.model_selection import train_test_split\n",
    "from sklearn.tree import DecisionTreeClassifier\n",
    "from sklearn.metrics import accuracy_score"
   ]
  },
  {
   "cell_type": "code",
   "execution_count": 3,
   "metadata": {},
   "outputs": [
    {
     "name": "stdout",
     "output_type": "stream",
     "text": [
      "   ปีที่เกิดเหตุ วันที่เกิดเหตุ  เวลา วันที่รายงาน เวลาที่รายงาน  ACC_CODE  \\\n",
      "0           2020       1/1/2020  0:05     1/1/2020          8:07   3785916   \n",
      "1           2020       1/1/2020  0:05     2/1/2020          0:36   3786314   \n",
      "2           2020       1/1/2020  0:15     2/1/2020          6:06    575019   \n",
      "4           2020       1/1/2020  0:20     3/2/2020         13:23   3789099   \n",
      "5           2020       1/1/2020  0:30     1/1/2020         17:48    574987   \n",
      "\n",
      "         หน่วยงาน                                             สายทาง    ก.ม.  \\\n",
      "0      กรมทางหลวง                                   สวนปาล์ม -คลองชี   6.600   \n",
      "1      กรมทางหลวง                                 หนองจิกรี - ถนนสุด  37.000   \n",
      "2  กรมทางหลวงชนบท               ถนนผังเมืองรวมเมืองหนองบัวลำภู สาย ข   7.275   \n",
      "4      กรมทางหลวง                                   นางั่ว - ทุ่งสมอ  29.300   \n",
      "5  กรมทางหลวงชนบท  แยกทางหลวงหมายเลข 2 (กม.ที่ 90+ 050) - บ้านไชยวาน   5.700   \n",
      "\n",
      "       จังหวัด     รถคันที่ 1   บริเวณที่เกิดเหตุ/ลักษณะทาง  \\\n",
      "0       กระบี่     คนเดินเท้า  ทางโค้งกว้าง+ไม่มีความลาดชัน   \n",
      "1    นครสวรรค์  รถจักรยานยนต์        ทางตรง+ไม่มีความลาดชัน   \n",
      "2  หนองบัวลำภู  รถจักรยานยนต์                     ทางสี่แยก   \n",
      "4    เพชรบูรณ์  รถจักรยานยนต์        ทางโค้งกว้าง+ที่ลาดชัน   \n",
      "5     อุดรธานี      รถจักรยาน                 ทางสามแยก (Y)   \n",
      "\n",
      "          มูลเหตุสันนิษฐาน              ลักษณะการเกิดอุบัติเหตุ  \\\n",
      "0  ขับรถเร็วเกินอัตรากำหนด                         ชนคนเดินเท้า   \n",
      "1      แซงรถอย่างผิดกฎหมาย                               ชนท้าย   \n",
      "2              ขับรถย้อนศร                ชนเป็นมุมบริเวณทางแยก   \n",
      "4                  เมาสุรา              พลิกคว่ำ/ตกถนนในทางโค้ง   \n",
      "5                  เมาสุรา  ชนในทิศทางตรงกันข้าม (ไม่ใช่การแซง)   \n",
      "\n",
      "   จำนวนรถที่เกิดเหตุ (รวมคันที่ 1)  จำนวนผู้เสียชีวิต  รวมจำนวนผู้บาดเจ็บ  \\\n",
      "0                                 1                  0                   1   \n",
      "1                                 2                  0                   1   \n",
      "2                                 1                  1                   0   \n",
      "4                                 1                  0                   1   \n",
      "5                                 1                  1                   0   \n",
      "\n",
      "  สภาพอากาศ   LATITUDE   LONGITUDE  \n",
      "0    แจ่มใส   8.008887   99.390674  \n",
      "1    แจ่มใส  15.650940   99.478422  \n",
      "2    แจ่มใส  17.191475  102.454305  \n",
      "4    แจ่มใส  16.609966  100.997331  \n",
      "5    แจ่มใส  17.205694  102.965832  \n",
      "False\n"
     ]
    }
   ],
   "source": [
    "acc_2020 = pd.read_csv('accident2020.csv')\n",
    "#print(acc_2020.head())\n",
    "\n",
    "acc_2020_cleaned = acc_2020.dropna()\n",
    "print(acc_2020_cleaned.head())\n",
    "print(acc_2020_cleaned['ปีที่เกิดเหตุ'].isnull().values.any())"
   ]
  },
  {
   "cell_type": "code",
   "execution_count": 19,
   "metadata": {},
   "outputs": [
    {
     "name": "stdout",
     "output_type": "stream",
     "text": [
      "   ปีที่เกิดเหตุ วันที่เกิดเหตุ  เวลา วันที่รายงาน เวลาที่รายงาน  ACC_CODE  \\\n",
      "0           2021       1/1/2021  0:00     2/6/2021          9:04   4172437   \n",
      "3           2021       1/1/2021  0:05     1/1/2021         10:16   3812049   \n",
      "4           2021       1/1/2021  0:05     4/1/2021          9:40   3812534   \n",
      "5           2021       1/1/2021  0:05     6/1/2021         10:29   3813106   \n",
      "8           2021       1/1/2021  0:10     2/1/2021          6:28   3812186   \n",
      "\n",
      "     หน่วยงาน รหัสสายทาง              สายทาง    ก.ม.  ... รถบรรทุก 6 ล้อ  \\\n",
      "0  กรมทางหลวง       2044   ร้อยเอ็ด - หนองดง  16.000  ...              0   \n",
      "3  กรมทางหลวง       4169      ทางรอบเกาะสมุย  33.625  ...              0   \n",
      "4  กรมทางหลวง       1143  น้ำคลาด - ปางหมิ่น  59.900  ...              0   \n",
      "5  กรมทางหลวง       3028    บางงา - บ้านหมี่   9.900  ...              0   \n",
      "8  กรมทางหลวง         33   สุพรรณบุรี - นาคู   2.100  ...              0   \n",
      "\n",
      "  รถบรรทุกมากกว่า 6 ล้อ ไม่เกิน 10 ล้อ รถบรรทุกมากกว่า 10 ล้อ (รถพ่วง)  \\\n",
      "0                                    0                               0   \n",
      "3                                    0                               0   \n",
      "4                                    0                               0   \n",
      "5                                    0                               0   \n",
      "8                                    0                               0   \n",
      "\n",
      "  รถอีแต๋น อื่นๆ คนเดินเท้า  จำนวนผู้เสียชีวิต  จำนวนผู้บาดเจ็บสาหัส  \\\n",
      "0        0     0          0                  0                     0   \n",
      "3        0     0          0                  0                     0   \n",
      "4        0     0          0                  1                     2   \n",
      "5        0     0          0                  1                     0   \n",
      "8        0     0          0                  0                     0   \n",
      "\n",
      "   จำนวนผู้บาดเจ็บเล็กน้อย  รวมจำนวนผู้บาดเจ็บ  \n",
      "0                        2                   2  \n",
      "3                        5                   5  \n",
      "4                        0                   2  \n",
      "5                        0                   0  \n",
      "8                        0                   0  \n",
      "\n",
      "[5 rows x 37 columns]\n",
      "False\n"
     ]
    }
   ],
   "source": [
    "acc_2021 = pd.read_csv('accident2021.csv')\n",
    "#print(acc_2020.head())\n",
    "\n",
    "acc_2021_cleaned = acc_2021.dropna()\n",
    "print(acc_2021_cleaned.head())\n",
    "print(acc_2021_cleaned['ปีที่เกิดเหตุ'].isnull().values.any())"
   ]
  },
  {
   "cell_type": "code",
   "execution_count": 21,
   "metadata": {},
   "outputs": [
    {
     "name": "stdout",
     "output_type": "stream",
     "text": [
      "   ปีที่เกิดเหตุ วันที่เกิดเหตุ  เวลา วันที่รายงาน เวลาที่รายงาน  ACC_CODE  \\\n",
      "2           2022       1/1/2022  0:03     9/2/2022          8:41   5706553   \n",
      "3           2022       1/1/2022  0:05     2/1/2022          6:21   5485750   \n",
      "4           2022       1/1/2022  0:05    24/1/2022          9:59   5624452   \n",
      "6           2022       1/1/2022  0:08     3/3/2022         10:14   5836781   \n",
      "7           2022       1/1/2022  0:10    22/2/2022         14:01   5783258   \n",
      "\n",
      "     หน่วยงาน รหัสสายทาง                                    สายทาง     ก.ม.  \\\n",
      "2  กรมทางหลวง          4                     พ่อตาหินช้าง - วังครก  469.800   \n",
      "3  กรมทางหลวง       4030                          ถลาง - หาดราไวย์   17.125   \n",
      "4  กรมทางหลวง        216  ถนนวงแหวนรอบเมืองอุดรธานีด้านทิศตะวันออก   25.350   \n",
      "6  กรมทางหลวง       3477                      บางปะอิน - เกาะเรียน    4.835   \n",
      "7  กรมทางหลวง       3438                           ดินแดง - ไผ่งาม   43.985   \n",
      "\n",
      "   ... รถบรรทุก 6 ล้อ รถบรรทุกมากกว่า 6 ล้อ ไม่เกิน 10 ล้อ  \\\n",
      "2  ...              0                                    0   \n",
      "3  ...              0                                    0   \n",
      "4  ...              0                                    0   \n",
      "6  ...              0                                    0   \n",
      "7  ...              0                                    0   \n",
      "\n",
      "  รถบรรทุกมากกว่า 10 ล้อ (รถพ่วง) รถอีแต๋น อื่นๆ คนเดินเท้า  \\\n",
      "2                               0        0     0          0   \n",
      "3                               0        0     0          0   \n",
      "4                               0        0     0          0   \n",
      "6                               0        0     0          0   \n",
      "7                               0        0     0          0   \n",
      "\n",
      "   จำนวนผู้เสียชีวิต  จำนวนผู้บาดเจ็บสาหัส  จำนวนผู้บาดเจ็บเล็กน้อย  \\\n",
      "2                  1                     0                        0   \n",
      "3                  0                     0                        1   \n",
      "4                  0                     0                        2   \n",
      "6                  0                     0                        1   \n",
      "7                  0                     1                        0   \n",
      "\n",
      "   รวมจำนวนผู้บาดเจ็บ  \n",
      "2                   0  \n",
      "3                   1  \n",
      "4                   2  \n",
      "6                   1  \n",
      "7                   1  \n",
      "\n",
      "[5 rows x 37 columns]\n",
      "False\n"
     ]
    }
   ],
   "source": [
    "acc_2022 = pd.read_csv('accident2022.csv')\n",
    "#print(acc_2020.head())\n",
    "\n",
    "acc_2022_cleaned = acc_2022.dropna()\n",
    "print(acc_2022_cleaned.head())\n",
    "print(acc_2022_cleaned['ปีที่เกิดเหตุ'].isnull().values.any())"
   ]
  },
  {
   "cell_type": "code",
   "execution_count": 26,
   "metadata": {},
   "outputs": [
    {
     "name": "stdout",
     "output_type": "stream",
     "text": [
      "จังหวัด        รถคันที่ 1                           \n",
      "กรุงเทพมหานคร  รถยนต์นั่งส่วนบุคคล/รถยนต์นั่งสาธารณะ    675\n",
      "               รถปิคอัพบรรทุก 4 ล้อ                     378\n",
      "               รถจักรยานยนต์                            146\n",
      "               รถบรรทุกมากกว่า 10 ล้อ (รถพ่วง)           80\n",
      "               รถบรรทุก 6 ล้อ                            50\n",
      "               อื่นๆ                                     46\n",
      "               รถบรรทุกมากกว่า 6 ล้อ ไม่เกิน 10 ล้อ      32\n",
      "               รถตู้                                     22\n",
      "               รถโดยสารขนาดใหญ่                          10\n",
      "               รถปิคอัพโดยสาร                             4\n",
      "               รถสามล้อเครื่อง                            2\n",
      "dtype: int64\n"
     ]
    }
   ],
   "source": [
    "bangkok_car_type_2020 = acc_2020_cleaned[acc_2020_cleaned['จังหวัด'] == 'กรุงเทพมหานคร'].groupby(['จังหวัด','รถคันที่ 1'])\n",
    "bangkok_car_type_2020_sum = bangkok_car_type_2020.size()\n",
    "\n",
    "#print(bangkok_car_type_sum)\n",
    "bangkok_car_type_2020_sum = bangkok_car_type_2020_sum.sort_values(ascending=False)\n",
    "print(bangkok_car_type_2020_sum)"
   ]
  },
  {
   "cell_type": "code",
   "execution_count": 22,
   "metadata": {},
   "outputs": [
    {
     "name": "stdout",
     "output_type": "stream",
     "text": [
      "จังหวัด        รถคันที่ 1                           \n",
      "กรุงเทพมหานคร  รถยนต์นั่งส่วนบุคคล/รถยนต์นั่งสาธารณะ    357\n",
      "               รถปิคอัพบรรทุก 4 ล้อ                     309\n",
      "               รถบรรทุกมากกว่า 10 ล้อ (รถพ่วง)           58\n",
      "               อื่นๆ                                     47\n",
      "               รถบรรทุก 6 ล้อ                            39\n",
      "               รถจักรยานยนต์                             38\n",
      "               รถบรรทุกมากกว่า 6 ล้อ ไม่เกิน 10 ล้อ      22\n",
      "               รถตู้                                      5\n",
      "               รถโดยสารขนาดใหญ่                           3\n",
      "               คนเดินเท้า                                 1\n",
      "dtype: int64\n"
     ]
    }
   ],
   "source": [
    "bangkok_car_type_2021 = acc_2021_cleaned[acc_2021_cleaned['จังหวัด'] == 'กรุงเทพมหานคร'].groupby(['จังหวัด','รถคันที่ 1'])\n",
    "bangkok_car_type_2021_sum = bangkok_car_type_2021.size()\n",
    "\n",
    "#print(bangkok_car_type_sum)\n",
    "bangkok_car_type_2021_sum = bangkok_car_type_2021_sum.sort_values(ascending=False)\n",
    "print(bangkok_car_type_2021_sum)"
   ]
  },
  {
   "cell_type": "code",
   "execution_count": 24,
   "metadata": {},
   "outputs": [
    {
     "name": "stdout",
     "output_type": "stream",
     "text": [
      "จังหวัด        รถคันที่ 1                           \n",
      "กรุงเทพมหานคร  รถยนต์นั่งส่วนบุคคล/รถยนต์นั่งสาธารณะ    531\n",
      "               รถปิคอัพบรรทุก 4 ล้อ                     309\n",
      "               รถจักรยานยนต์                            116\n",
      "               รถบรรทุกมากกว่า 10 ล้อ (รถพ่วง)           82\n",
      "               รถบรรทุก 6 ล้อ                            40\n",
      "               อื่นๆ                                     33\n",
      "               รถบรรทุกมากกว่า 6 ล้อ ไม่เกิน 10 ล้อ      26\n",
      "               รถตู้                                     12\n",
      "               รถโดยสารขนาดใหญ่                           5\n",
      "               รถปิคอัพโดยสาร                             3\n",
      "dtype: int64\n"
     ]
    }
   ],
   "source": [
    "bangkok_car_type_2022 = acc_2022_cleaned[acc_2022_cleaned['จังหวัด'] == 'กรุงเทพมหานคร'].groupby(['จังหวัด','รถคันที่ 1'])\n",
    "bangkok_car_type_2022_sum = bangkok_car_type_2022.size()\n",
    "\n",
    "#print(bangkok_car_type_sum)\n",
    "bangkok_car_type_2022_sum = bangkok_car_type_2022_sum.sort_values(ascending=False)\n",
    "print(bangkok_car_type_2022_sum)"
   ]
  },
  {
   "cell_type": "code",
   "execution_count": 75,
   "metadata": {},
   "outputs": [
    {
     "name": "stdout",
     "output_type": "stream",
     "text": [
      "รถคันที่ 1\n",
      "รถยนต์นั่งส่วนบุคคล/รถยนต์นั่งสาธารณะ    521.000000\n",
      "รถปิคอัพบรรทุก 4 ล้อ                     332.000000\n",
      "รถจักรยานยนต์                            100.000000\n",
      "รถบรรทุกมากกว่า 10 ล้อ (รถพ่วง)           73.333333\n",
      "รถบรรทุก 6 ล้อ                            43.000000\n",
      "อื่นๆ                                     42.000000\n",
      "รถบรรทุกมากกว่า 6 ล้อ ไม่เกิน 10 ล้อ      26.666667\n",
      "รถตู้                                     13.000000\n",
      "รถโดยสารขนาดใหญ่                           6.000000\n",
      "รถปิคอัพโดยสาร                             2.333333\n",
      "รถสามล้อเครื่อง                            0.666667\n",
      "คนเดินเท้า                                 0.333333\n",
      "dtype: float64\n"
     ]
    }
   ],
   "source": [
    "bangkok_car_type_all_year = pd.concat([bangkok_car_type_2020_sum,bangkok_car_type_2021_sum,bangkok_car_type_2022_sum]) \n",
    "\n",
    "#print(bangkok_car_type_all_year)\n",
    "# group the concatenated table by the car type and calculate the total number of accidents for each car type\n",
    "bangokok_sum_car_type = bangkok_car_type_all_year.groupby('รถคันที่ 1').sum()\n",
    "#print(bangokok_sum_car_type)\n",
    "\n",
    "# calculate the mean number of accidents per year for each car type\n",
    "bangkok_avg_cartype_acc_per_year = bangokok_sum_car_type/3\n",
    "print(bangkok_avg_cartype_acc_per_year.sort_values(ascending=False))"
   ]
  },
  {
   "cell_type": "code",
   "execution_count": 110,
   "metadata": {},
   "outputs": [
    {
     "name": "stdout",
     "output_type": "stream",
     "text": [
      "                              รถคันที่ 1       count\n",
      "0  รถยนต์นั่งส่วนบุคคล/รถยนต์นั่งสาธารณะ  521.000000\n",
      "1                   รถปิคอัพบรรทุก 4 ล้อ  332.000000\n",
      "2                          รถจักรยานยนต์  100.000000\n",
      "3        รถบรรทุกมากกว่า 10 ล้อ (รถพ่วง)   73.333333\n",
      "4                         รถบรรทุก 6 ล้อ   43.000000\n"
     ]
    },
    {
     "data": {
      "image/png": "[encoded data removed]",
      "text/plain": [
       "<Figure size 640x480 with 1 Axes>"
      ]
     },
     "metadata": {},
     "output_type": "display_data"
    }
   ],
   "source": [
    "bangkok_avg_cartype_acc_per_year_top_5 = bangkok_avg_cartype_acc_per_year.sort_values(ascending=False).head(5).reset_index()\n",
    "bangkok_avg_cartype_acc_per_year_top_5.rename(columns = {0:'count'}, inplace=True)\n",
    "print(bangkok_avg_cartype_acc_per_year_top_5)\n",
    "#if isinstance(bangkok_avg_cartype_acc_per_year_top_5, pd.DataFrame):\n",
    "\n",
    "eng_type_of_car = {'รถยนต์นั่งส่วนบุคคล/รถยนต์นั่งสาธารณะ':'Personal/Public vehicle', 'รถปิคอัพบรรทุก 4 ล้อ':'Pickup truck','รถจักรยานยนต์':'Motorcycle','รถบรรทุกมากกว่า 10 ล้อ (รถพ่วง)':'Trailer','รถบรรทุก 6 ล้อ': '6 wheeler truck'}\n",
    "bangkok_avg_cartype_acc_per_year_top_5['vehicle 1'] = bangkok_avg_cartype_acc_per_year_top_5['รถคันที่ 1'].map(eng_type_of_car)\n",
    "\n",
    "bangkok_avg_cartype_acc_per_year_top_5.plot.bar(x='vehicle 1', y= 'count', rot=0).set_xticklabels(bangkok_avg_cartype_acc_per_year_top_5['vehicle 1'], rotation=45, ha='right')\n",
    "plt.rcParams['font.family'] = 'Tahoma'\n",
    "plt.rcParams['font.sans-serif'] = ['Tahoma']\n",
    "\n",
    "plt.xlabel('Vehicle Type')\n",
    "plt.ylabel('Number of Accidents')\n",
    "plt.title('Number of Average Accidents by Vehicle Type in Bangkok per year')\n",
    "plt.show()\n",
    "#else:\n",
    "#    print(\"df is not a DataFrame\")"
   ]
  },
  {
   "cell_type": "code",
   "execution_count": 51,
   "metadata": {},
   "outputs": [
    {
     "name": "stdout",
     "output_type": "stream",
     "text": [
      "จังหวัด  รถคันที่ 1                           \n",
      "ชลบุรี   รถยนต์นั่งส่วนบุคคล/รถยนต์นั่งสาธารณะ    472\n",
      "         รถปิคอัพบรรทุก 4 ล้อ                     313\n",
      "         รถบรรทุกมากกว่า 10 ล้อ (รถพ่วง)          122\n",
      "         อื่นๆ                                     45\n",
      "         รถจักรยานยนต์                             44\n",
      "         รถบรรทุก 6 ล้อ                            27\n",
      "         รถบรรทุกมากกว่า 6 ล้อ ไม่เกิน 10 ล้อ      27\n",
      "         รถตู้                                     10\n",
      "         รถโดยสารขนาดใหญ่                           5\n",
      "         รถสามล้อเครื่อง                            3\n",
      "         รถจักรยาน                                  1\n",
      "         รถปิคอัพโดยสาร                             1\n",
      "dtype: int64\n"
     ]
    }
   ],
   "source": [
    "chonburi_car_type_2020 = acc_2020_cleaned[acc_2020_cleaned['จังหวัด'] == 'ชลบุรี'].groupby(['จังหวัด','รถคันที่ 1'])\n",
    "chonburi_car_type_2020_sum = chonburi_car_type_2020.size()\n",
    "\n",
    "chonburi_car_type_2020_sum = chonburi_car_type_2020_sum.sort_values(ascending=False)\n",
    "print(chonburi_car_type_2020_sum)"
   ]
  },
  {
   "cell_type": "code",
   "execution_count": 20,
   "metadata": {},
   "outputs": [
    {
     "name": "stdout",
     "output_type": "stream",
     "text": [
      "จังหวัด  รถคันที่ 1                           \n",
      "ชลบุรี   รถยนต์นั่งส่วนบุคคล/รถยนต์นั่งสาธารณะ    330\n",
      "         รถปิคอัพบรรทุก 4 ล้อ                     303\n",
      "         รถบรรทุกมากกว่า 10 ล้อ (รถพ่วง)          118\n",
      "         อื่นๆ                                     73\n",
      "         รถบรรทุก 6 ล้อ                            32\n",
      "         รถจักรยานยนต์                             29\n",
      "         รถบรรทุกมากกว่า 6 ล้อ ไม่เกิน 10 ล้อ      25\n",
      "         รถตู้                                      5\n",
      "         รถโดยสารขนาดใหญ่                           1\n",
      "dtype: int64\n"
     ]
    }
   ],
   "source": [
    "chonburi_car_type_2021 = acc_2021_cleaned[acc_2021_cleaned['จังหวัด'] == 'ชลบุรี'].groupby(['จังหวัด','รถคันที่ 1'])\n",
    "chonburi_car_type_2021_sum = chonburi_car_type_2021.size()\n",
    "\n",
    "chonburi_car_type_2021_sum = chonburi_car_type_2021_sum.sort_values(ascending=False)\n",
    "print(chonburi_car_type_2021_sum)"
   ]
  },
  {
   "cell_type": "code",
   "execution_count": 47,
   "metadata": {},
   "outputs": [
    {
     "name": "stdout",
     "output_type": "stream",
     "text": [
      "จังหวัด  รถคันที่ 1                           \n",
      "ชลบุรี   รถยนต์นั่งส่วนบุคคล/รถยนต์นั่งสาธารณะ    356\n",
      "         รถปิคอัพบรรทุก 4 ล้อ                     328\n",
      "         รถบรรทุกมากกว่า 10 ล้อ (รถพ่วง)          123\n",
      "         รถจักรยานยนต์                             48\n",
      "         อื่นๆ                                     39\n",
      "         รถบรรทุกมากกว่า 6 ล้อ ไม่เกิน 10 ล้อ      29\n",
      "         รถบรรทุก 6 ล้อ                            28\n",
      "         รถตู้                                     16\n",
      "         รถโดยสารขนาดใหญ่                           2\n",
      "dtype: int64\n"
     ]
    }
   ],
   "source": [
    "chonburi_car_type_2022 = acc_2022_cleaned[acc_2022_cleaned['จังหวัด'] == 'ชลบุรี'].groupby(['จังหวัด','รถคันที่ 1'])\n",
    "chonburi_car_type_2022_sum = chonburi_car_type_2022.size()\n",
    "\n",
    "chonburi_car_type_2022_sum = chonburi_car_type_2022_sum.sort_values(ascending=False)\n",
    "print(chonburi_car_type_2022_sum)"
   ]
  },
  {
   "cell_type": "code",
   "execution_count": 56,
   "metadata": {},
   "outputs": [
    {
     "name": "stdout",
     "output_type": "stream",
     "text": [
      "รถคันที่ 1\n",
      "รถจักรยาน                                  0.333333\n",
      "รถจักรยานยนต์                             40.333333\n",
      "รถตู้                                     10.333333\n",
      "รถบรรทุก 6 ล้อ                            29.000000\n",
      "รถบรรทุกมากกว่า 10 ล้อ (รถพ่วง)          121.000000\n",
      "รถบรรทุกมากกว่า 6 ล้อ ไม่เกิน 10 ล้อ      27.000000\n",
      "รถปิคอัพบรรทุก 4 ล้อ                     314.666667\n",
      "รถปิคอัพโดยสาร                             0.333333\n",
      "รถยนต์นั่งส่วนบุคคล/รถยนต์นั่งสาธารณะ    386.000000\n",
      "รถสามล้อเครื่อง                            1.000000\n",
      "รถโดยสารขนาดใหญ่                           2.666667\n",
      "อื่นๆ                                     52.333333\n",
      "dtype: float64\n"
     ]
    }
   ],
   "source": [
    "chonburi_car_type_all_year = pd.concat([chonburi_car_type_2020_sum,chonburi_car_type_2021_sum,chonburi_car_type_2022_sum]) \n",
    "\n",
    "#print(chonburi_car_type_all_year)\n",
    "# group the concatenated table by the car type and calculate the total number of accidents for each car type\n",
    "chonburi_sum_car_type = chonburi_car_type_all_year.groupby('รถคันที่ 1').sum()\n",
    "#print(chonburi_sum_car_type)\n",
    "\n",
    "# calculate the mean number of accidents per year for each car type\n",
    "chonburi_avg_cartype_acc_per_year = chonburi_sum_car_type/3\n",
    "print(chonburi_avg_cartype_acc_per_year)"
   ]
  },
  {
   "cell_type": "code",
   "execution_count": 119,
   "metadata": {},
   "outputs": [
    {
     "name": "stdout",
     "output_type": "stream",
     "text": [
      "                              รถคันที่ 1       count\n",
      "0  รถยนต์นั่งส่วนบุคคล/รถยนต์นั่งสาธารณะ  386.000000\n",
      "1                   รถปิคอัพบรรทุก 4 ล้อ  314.666667\n",
      "2        รถบรรทุกมากกว่า 10 ล้อ (รถพ่วง)  121.000000\n",
      "3                                  อื่นๆ   52.333333\n",
      "4                          รถจักรยานยนต์   40.333333\n"
     ]
    },
    {
     "data": {
      "image/png": "[encoded data removed]",
      "text/plain": [
       "<Figure size 640x480 with 1 Axes>"
      ]
     },
     "metadata": {},
     "output_type": "display_data"
    }
   ],
   "source": [
    "chonburi_avg_cartype_acc_per_year_top_5 = chonburi_avg_cartype_acc_per_year.sort_values(ascending=False).head(5).reset_index()\n",
    "chonburi_avg_cartype_acc_per_year_top_5.rename(columns = {0:'count'}, inplace=True)\n",
    "print(chonburi_avg_cartype_acc_per_year_top_5)\n",
    "#if isinstance(bangkok_avg_cartype_acc_per_year_top_5, pd.DataFrame):\n",
    "\n",
    "eng_type_of_car = {'รถยนต์นั่งส่วนบุคคล/รถยนต์นั่งสาธารณะ':'Personal/Public vehicle', 'รถปิคอัพบรรทุก 4 ล้อ':'Pickup truck','รถจักรยานยนต์':'Motorcycle','รถบรรทุกมากกว่า 10 ล้อ (รถพ่วง)':'Trailer','อื่นๆ': 'etc'}\n",
    "chonburi_avg_cartype_acc_per_year_top_5['vehicle 1'] = chonburi_avg_cartype_acc_per_year_top_5['รถคันที่ 1'].map(eng_type_of_car)\n",
    "\n",
    "chonburi_avg_cartype_acc_per_year_top_5.plot.bar(x='vehicle 1', y= 'count', rot=0).set_xticklabels(chonburi_avg_cartype_acc_per_year_top_5['vehicle 1'], rotation=45, ha='right')\n",
    "plt.rcParams['font.family'] = 'Tahoma'\n",
    "plt.rcParams['font.sans-serif'] = ['Tahoma']\n",
    "\n",
    "plt.xlabel('Vehicle Type')\n",
    "plt.ylabel('Number of Accidents')\n",
    "plt.title('Number of Average Accidents by Vehicle Type in Chonburi per year')\n",
    "plt.show()"
   ]
  },
  {
   "cell_type": "code",
   "execution_count": 14,
   "metadata": {},
   "outputs": [
    {
     "name": "stdout",
     "output_type": "stream",
     "text": [
      "จังหวัด    รถคันที่ 1                           \n",
      "เชียงใหม่  รถจักรยานยนต์                            363\n",
      "           รถยนต์นั่งส่วนบุคคล/รถยนต์นั่งสาธารณะ    322\n",
      "           รถปิคอัพบรรทุก 4 ล้อ                     236\n",
      "           รถบรรทุก 6 ล้อ                            29\n",
      "           รถบรรทุกมากกว่า 10 ล้อ (รถพ่วง)           14\n",
      "           รถปิคอัพโดยสาร                            13\n",
      "           รถตู้                                      8\n",
      "           อื่นๆ                                      8\n",
      "           รถจักรยาน                                  5\n",
      "           รถบรรทุกมากกว่า 6 ล้อ ไม่เกิน 10 ล้อ       5\n",
      "           คนเดินเท้า                                 4\n",
      "           รถสามล้อเครื่อง                            3\n",
      "dtype: int64\n"
     ]
    }
   ],
   "source": [
    "chiangmai_car_type_2020 = acc_2020_cleaned[acc_2020_cleaned['จังหวัด'] == 'เชียงใหม่'].groupby(['จังหวัด','รถคันที่ 1'])\n",
    "chiangmai_car_type_2020_sum = chiangmai_car_type_2020.size()\n",
    "\n",
    "chiangmai_car_type_2020_sum = chiangmai_car_type_2020_sum.sort_values(ascending=False)\n",
    "print(chiangmai_car_type_2020_sum)"
   ]
  },
  {
   "cell_type": "code",
   "execution_count": 58,
   "metadata": {},
   "outputs": [
    {
     "name": "stdout",
     "output_type": "stream",
     "text": [
      "จังหวัด    รถคันที่ 1                           \n",
      "เชียงใหม่  รถจักรยานยนต์                            334\n",
      "           รถยนต์นั่งส่วนบุคคล/รถยนต์นั่งสาธารณะ    239\n",
      "           รถปิคอัพบรรทุก 4 ล้อ                     228\n",
      "           รถบรรทุก 6 ล้อ                            23\n",
      "           รถบรรทุกมากกว่า 10 ล้อ (รถพ่วง)           15\n",
      "           อื่นๆ                                      8\n",
      "           รถบรรทุกมากกว่า 6 ล้อ ไม่เกิน 10 ล้อ       7\n",
      "           รถตู้                                      4\n",
      "           คนเดินเท้า                                 3\n",
      "           รถปิคอัพโดยสาร                             2\n",
      "           รถสามล้อเครื่อง                            1\n",
      "dtype: int64\n"
     ]
    }
   ],
   "source": [
    "chiangmai_car_type_2021 = acc_2021_cleaned[acc_2021_cleaned['จังหวัด'] == 'เชียงใหม่'].groupby(['จังหวัด','รถคันที่ 1'])\n",
    "chiangmai_car_type_2021_sum = chiangmai_car_type_2021.size()\n",
    "\n",
    "chiangmai_car_type_2021_sum = chiangmai_car_type_2021_sum.sort_values(ascending=False)\n",
    "print(chiangmai_car_type_2021_sum)"
   ]
  },
  {
   "cell_type": "code",
   "execution_count": 57,
   "metadata": {},
   "outputs": [
    {
     "name": "stdout",
     "output_type": "stream",
     "text": [
      "จังหวัด    รถคันที่ 1                           \n",
      "เชียงใหม่  รถปิคอัพบรรทุก 4 ล้อ                     197\n",
      "           รถจักรยานยนต์                            188\n",
      "           รถยนต์นั่งส่วนบุคคล/รถยนต์นั่งสาธารณะ    170\n",
      "           รถบรรทุก 6 ล้อ                            15\n",
      "           อื่นๆ                                     11\n",
      "           รถบรรทุกมากกว่า 10 ล้อ (รถพ่วง)            7\n",
      "           รถตู้                                      3\n",
      "           คนเดินเท้า                                 1\n",
      "           รถบรรทุกมากกว่า 6 ล้อ ไม่เกิน 10 ล้อ       1\n",
      "           รถปิคอัพโดยสาร                             1\n",
      "           รถโดยสารขนาดใหญ่                           1\n",
      "dtype: int64\n"
     ]
    }
   ],
   "source": [
    "chiangmai_car_type_2022 = acc_2022_cleaned[acc_2022_cleaned['จังหวัด'] == 'เชียงใหม่'].groupby(['จังหวัด','รถคันที่ 1'])\n",
    "chiangmai_car_type_2022_sum = chiangmai_car_type_2022.size()\n",
    "\n",
    "chiangmai_car_type_2022_sum = chiangmai_car_type_2022_sum.sort_values(ascending=False)\n",
    "print(chiangmai_car_type_2022_sum)"
   ]
  },
  {
   "cell_type": "code",
   "execution_count": 61,
   "metadata": {},
   "outputs": [
    {
     "name": "stdout",
     "output_type": "stream",
     "text": [
      "รถคันที่ 1\n",
      "คนเดินเท้า                                 2.666667\n",
      "รถจักรยาน                                  1.666667\n",
      "รถจักรยานยนต์                            295.000000\n",
      "รถตู้                                      5.000000\n",
      "รถบรรทุก 6 ล้อ                            22.333333\n",
      "รถบรรทุกมากกว่า 10 ล้อ (รถพ่วง)           12.000000\n",
      "รถบรรทุกมากกว่า 6 ล้อ ไม่เกิน 10 ล้อ       4.333333\n",
      "รถปิคอัพบรรทุก 4 ล้อ                     220.333333\n",
      "รถปิคอัพโดยสาร                             5.333333\n",
      "รถยนต์นั่งส่วนบุคคล/รถยนต์นั่งสาธารณะ    243.666667\n",
      "รถสามล้อเครื่อง                            1.333333\n",
      "รถโดยสารขนาดใหญ่                           0.333333\n",
      "อื่นๆ                                      9.000000\n",
      "dtype: float64\n"
     ]
    }
   ],
   "source": [
    "chiangmai_car_type_all_year = pd.concat([chiangmai_car_type_2020_sum,chiangmai_car_type_2021_sum,chiangmai_car_type_2022_sum]) \n",
    "\n",
    "#print(chiangmai_car_type_all_year)\n",
    "# group the concatenated table by the car type and calculate the total number of accidents for each car type\n",
    "chiangmai_sum_car_type = chiangmai_car_type_all_year.groupby('รถคันที่ 1').sum()\n",
    "#print(chiangmai_sum_car_type)\n",
    "\n",
    "# calculate the mean number of accidents per year for each car type\n",
    "chiangmai_avg_cartype_acc_per_year = chiangmai_sum_car_type/3\n",
    "print(chiangmai_avg_cartype_acc_per_year)"
   ]
  },
  {
   "cell_type": "code",
   "execution_count": 118,
   "metadata": {},
   "outputs": [
    {
     "name": "stdout",
     "output_type": "stream",
     "text": [
      "                              รถคันที่ 1       count\n",
      "0                          รถจักรยานยนต์  295.000000\n",
      "1  รถยนต์นั่งส่วนบุคคล/รถยนต์นั่งสาธารณะ  243.666667\n",
      "2                   รถปิคอัพบรรทุก 4 ล้อ  220.333333\n",
      "3                         รถบรรทุก 6 ล้อ   22.333333\n",
      "4        รถบรรทุกมากกว่า 10 ล้อ (รถพ่วง)   12.000000\n"
     ]
    },
    {
     "data": {
      "image/png": "[encoded data removed]",
      "text/plain": [
       "<Figure size 640x480 with 1 Axes>"
      ]
     },
     "metadata": {},
     "output_type": "display_data"
    }
   ],
   "source": [
    "chiangmai_avg_cartype_acc_per_year_top_5 = chiangmai_avg_cartype_acc_per_year.sort_values(ascending=False).head(5).reset_index()\n",
    "chiangmai_avg_cartype_acc_per_year_top_5.rename(columns = {0:'count'}, inplace=True)\n",
    "print(chiangmai_avg_cartype_acc_per_year_top_5)\n",
    "#if isinstance(bangkok_avg_cartype_acc_per_year_top_5, pd.DataFrame):\n",
    "\n",
    "eng_type_of_car = {'รถยนต์นั่งส่วนบุคคล/รถยนต์นั่งสาธารณะ':'Personal/Public vehicle', 'รถปิคอัพบรรทุก 4 ล้อ':'Pickup truck','รถจักรยานยนต์':'Motorcycle','รถบรรทุกมากกว่า 10 ล้อ (รถพ่วง)':'Trailer','รถบรรทุก 6 ล้อ': '6 wheeler truck'}\n",
    "chiangmai_avg_cartype_acc_per_year_top_5['vehicle 1'] = chiangmai_avg_cartype_acc_per_year_top_5['รถคันที่ 1'].map(eng_type_of_car)\n",
    "\n",
    "chiangmai_avg_cartype_acc_per_year_top_5.plot.bar(x='vehicle 1', y= 'count', rot=0).set_xticklabels(chiangmai_avg_cartype_acc_per_year_top_5['vehicle 1'], rotation=45, ha='right')\n",
    "plt.rcParams['font.family'] = 'Tahoma'\n",
    "plt.rcParams['font.sans-serif'] = ['Tahoma']\n",
    "\n",
    "plt.xlabel('Vehicle Type')\n",
    "plt.ylabel('Number of Accidents')\n",
    "plt.title('Number of Average Accidents by Vehicle Type in Chiangmai per year')\n",
    "plt.show()"
   ]
  },
  {
   "cell_type": "code",
   "execution_count": 16,
   "metadata": {},
   "outputs": [
    {
     "name": "stdout",
     "output_type": "stream",
     "text": [
      "จังหวัด     รถคันที่ 1                           \n",
      "สุพรรณบุรี  รถจักรยานยนต์                            278\n",
      "            รถปิคอัพบรรทุก 4 ล้อ                     245\n",
      "            รถยนต์นั่งส่วนบุคคล/รถยนต์นั่งสาธารณะ    163\n",
      "            รถบรรทุกมากกว่า 10 ล้อ (รถพ่วง)           24\n",
      "            รถบรรทุกมากกว่า 6 ล้อ ไม่เกิน 10 ล้อ      14\n",
      "            รถบรรทุก 6 ล้อ                            12\n",
      "            รถสามล้อเครื่อง                           12\n",
      "            รถตู้                                      6\n",
      "            รถปิคอัพโดยสาร                             4\n",
      "            อื่นๆ                                      4\n",
      "            รถจักรยาน                                  3\n",
      "            รถโดยสารขนาดใหญ่                           2\n",
      "            คนเดินเท้า                                 1\n",
      "dtype: int64\n"
     ]
    }
   ],
   "source": [
    "suphanburi_car_type_2020 = acc_2020_cleaned[acc_2020_cleaned['จังหวัด'] == 'สุพรรณบุรี'].groupby(['จังหวัด','รถคันที่ 1'])\n",
    "suphanburi_car_type_2020_sum = suphanburi_car_type_2020.size()\n",
    "\n",
    "suphanburi_car_type_2020_sum = suphanburi_car_type_2020_sum.sort_values(ascending=False)\n",
    "print(suphanburi_car_type_2020_sum)"
   ]
  },
  {
   "cell_type": "code",
   "execution_count": 62,
   "metadata": {},
   "outputs": [
    {
     "name": "stdout",
     "output_type": "stream",
     "text": [
      "จังหวัด     รถคันที่ 1                           \n",
      "สุพรรณบุรี  รถจักรยานยนต์                            189\n",
      "            รถปิคอัพบรรทุก 4 ล้อ                     184\n",
      "            รถยนต์นั่งส่วนบุคคล/รถยนต์นั่งสาธารณะ    134\n",
      "            รถบรรทุกมากกว่า 10 ล้อ (รถพ่วง)           30\n",
      "            รถบรรทุก 6 ล้อ                            18\n",
      "            อื่นๆ                                     14\n",
      "            รถบรรทุกมากกว่า 6 ล้อ ไม่เกิน 10 ล้อ      12\n",
      "            รถสามล้อเครื่อง                            8\n",
      "            รถจักรยาน                                  2\n",
      "            รถตู้                                      2\n",
      "            รถอีแต๋น/เพื่อการเกษตร                     2\n",
      "            รถสามล้อ                                   1\n",
      "dtype: int64\n"
     ]
    }
   ],
   "source": [
    "suphanburi_car_type_2021 = acc_2021_cleaned[acc_2021_cleaned['จังหวัด'] == 'สุพรรณบุรี'].groupby(['จังหวัด','รถคันที่ 1'])\n",
    "suphanburi_car_type_2021_sum = suphanburi_car_type_2021.size()\n",
    "\n",
    "suphanburi_car_type_2021_sum = suphanburi_car_type_2021_sum.sort_values(ascending=False)\n",
    "print(suphanburi_car_type_2021_sum)"
   ]
  },
  {
   "cell_type": "code",
   "execution_count": 63,
   "metadata": {},
   "outputs": [
    {
     "name": "stdout",
     "output_type": "stream",
     "text": [
      "จังหวัด     รถคันที่ 1                           \n",
      "สุพรรณบุรี  รถปิคอัพบรรทุก 4 ล้อ                     149\n",
      "            รถจักรยานยนต์                            119\n",
      "            รถยนต์นั่งส่วนบุคคล/รถยนต์นั่งสาธารณะ    106\n",
      "            รถบรรทุกมากกว่า 10 ล้อ (รถพ่วง)           21\n",
      "            รถบรรทุกมากกว่า 6 ล้อ ไม่เกิน 10 ล้อ      18\n",
      "            อื่นๆ                                     12\n",
      "            รถบรรทุก 6 ล้อ                             9\n",
      "            รถตู้                                      8\n",
      "            รถสามล้อเครื่อง                            6\n",
      "            คนเดินเท้า                                 2\n",
      "            รถโดยสารขนาดใหญ่                           1\n",
      "dtype: int64\n"
     ]
    }
   ],
   "source": [
    "suphanburi_car_type_2022 = acc_2022_cleaned[acc_2022_cleaned['จังหวัด'] == 'สุพรรณบุรี'].groupby(['จังหวัด','รถคันที่ 1'])\n",
    "suphanburi_car_type_2022_sum = suphanburi_car_type_2022.size()\n",
    "\n",
    "suphanburi_car_type_2022_sum = suphanburi_car_type_2022_sum.sort_values(ascending=False)\n",
    "print(suphanburi_car_type_2022_sum)"
   ]
  },
  {
   "cell_type": "code",
   "execution_count": 67,
   "metadata": {},
   "outputs": [
    {
     "name": "stdout",
     "output_type": "stream",
     "text": [
      "รถคันที่ 1\n",
      "คนเดินเท้า                                 1.000000\n",
      "รถจักรยาน                                  1.666667\n",
      "รถจักรยานยนต์                            195.333333\n",
      "รถตู้                                      5.333333\n",
      "รถบรรทุก 6 ล้อ                            13.000000\n",
      "รถบรรทุกมากกว่า 10 ล้อ (รถพ่วง)           25.000000\n",
      "รถบรรทุกมากกว่า 6 ล้อ ไม่เกิน 10 ล้อ      14.666667\n",
      "รถปิคอัพบรรทุก 4 ล้อ                     192.666667\n",
      "รถปิคอัพโดยสาร                             1.333333\n",
      "รถยนต์นั่งส่วนบุคคล/รถยนต์นั่งสาธารณะ    134.333333\n",
      "รถสามล้อ                                   0.333333\n",
      "รถสามล้อเครื่อง                            8.666667\n",
      "รถอีแต๋น/เพื่อการเกษตร                     0.666667\n",
      "รถโดยสารขนาดใหญ่                           1.000000\n",
      "อื่นๆ                                     10.000000\n",
      "dtype: float64\n"
     ]
    }
   ],
   "source": [
    "suphanburi_car_type_all_year = pd.concat([suphanburi_car_type_2020_sum,suphanburi_car_type_2021_sum,suphanburi_car_type_2022_sum]) \n",
    "\n",
    "#print(suphanburi_car_type_all_year)\n",
    "# group the concatenated table by the car type and calculate the total number of accidents for each car type\n",
    "suphanburi_sum_car_type = suphanburi_car_type_all_year.groupby('รถคันที่ 1').sum()\n",
    "#print(suphanburi_sum_car_type)\n",
    "\n",
    "# calculate the mean number of accidents per year for each car type\n",
    "suphanburi_avg_cartype_acc_per_year = suphanburi_sum_car_type/3\n",
    "print(suphanburi_avg_cartype_acc_per_year)"
   ]
  },
  {
   "cell_type": "code",
   "execution_count": 69,
   "metadata": {},
   "outputs": [
    {
     "name": "stdout",
     "output_type": "stream",
     "text": [
      "จังหวัด     รถคันที่ 1                           \n",
      "นครราชสีมา  รถปิคอัพบรรทุก 4 ล้อ                     274\n",
      "            รถยนต์นั่งส่วนบุคคล/รถยนต์นั่งสาธารณะ    177\n",
      "            รถจักรยานยนต์                             88\n",
      "            รถบรรทุกมากกว่า 10 ล้อ (รถพ่วง)           78\n",
      "            รถบรรทุก 6 ล้อ                            38\n",
      "            อื่นๆ                                     36\n",
      "            รถบรรทุกมากกว่า 6 ล้อ ไม่เกิน 10 ล้อ      28\n",
      "            รถโดยสารขนาดใหญ่                          13\n",
      "            รถตู้                                      8\n",
      "            คนเดินเท้า                                 7\n",
      "            รถปิคอัพโดยสาร                             2\n",
      "            รถอีแต๋น/เพื่อการเกษตร                     2\n",
      "            รถจักรยาน                                  1\n",
      "            รถสามล้อเครื่อง                            1\n",
      "dtype: int64\n"
     ]
    }
   ],
   "source": [
    "nakhonratchasima_car_type_2020 = acc_2020_cleaned[acc_2020_cleaned['จังหวัด'] == 'นครราชสีมา'].groupby(['จังหวัด','รถคันที่ 1'])\n",
    "nakhonratchasima_car_type_2020_sum = nakhonratchasima_car_type_2020.size()\n",
    "\n",
    "nakhonratchasima_car_type_2020_sum = nakhonratchasima_car_type_2020_sum.sort_values(ascending=False)\n",
    "print(nakhonratchasima_car_type_2020_sum)"
   ]
  },
  {
   "cell_type": "code",
   "execution_count": 70,
   "metadata": {},
   "outputs": [
    {
     "name": "stdout",
     "output_type": "stream",
     "text": [
      "จังหวัด     รถคันที่ 1                           \n",
      "นครราชสีมา  รถปิคอัพบรรทุก 4 ล้อ                     295\n",
      "            รถยนต์นั่งส่วนบุคคล/รถยนต์นั่งสาธารณะ    151\n",
      "            รถบรรทุกมากกว่า 10 ล้อ (รถพ่วง)           94\n",
      "            รถจักรยานยนต์                             67\n",
      "            รถบรรทุก 6 ล้อ                            47\n",
      "            อื่นๆ                                     41\n",
      "            รถบรรทุกมากกว่า 6 ล้อ ไม่เกิน 10 ล้อ      24\n",
      "            รถตู้                                     11\n",
      "            รถโดยสารขนาดใหญ่                           8\n",
      "            รถสามล้อเครื่อง                            2\n",
      "            รถจักรยาน                                  1\n",
      "            รถอีแต๋น/เพื่อการเกษตร                     1\n",
      "dtype: int64\n"
     ]
    }
   ],
   "source": [
    "nakhonratchasima_car_type_2021 = acc_2021_cleaned[acc_2021_cleaned['จังหวัด'] == 'นครราชสีมา'].groupby(['จังหวัด','รถคันที่ 1'])\n",
    "nakhonratchasima_car_type_2021_sum = nakhonratchasima_car_type_2021.size()\n",
    "\n",
    "nakhonratchasima_car_type_2021_sum = nakhonratchasima_car_type_2021_sum.sort_values(ascending=False)\n",
    "print(nakhonratchasima_car_type_2021_sum)"
   ]
  },
  {
   "cell_type": "code",
   "execution_count": 71,
   "metadata": {},
   "outputs": [
    {
     "name": "stdout",
     "output_type": "stream",
     "text": [
      "จังหวัด     รถคันที่ 1                           \n",
      "นครราชสีมา  รถปิคอัพบรรทุก 4 ล้อ                     276\n",
      "            รถยนต์นั่งส่วนบุคคล/รถยนต์นั่งสาธารณะ    160\n",
      "            รถบรรทุกมากกว่า 10 ล้อ (รถพ่วง)           82\n",
      "            รถจักรยานยนต์                             59\n",
      "            อื่นๆ                                     39\n",
      "            รถบรรทุก 6 ล้อ                            32\n",
      "            รถบรรทุกมากกว่า 6 ล้อ ไม่เกิน 10 ล้อ      31\n",
      "            รถตู้                                     13\n",
      "            รถโดยสารขนาดใหญ่                           8\n",
      "            คนเดินเท้า                                 2\n",
      "            รถสามล้อเครื่อง                            2\n",
      "            รถปิคอัพโดยสาร                             1\n",
      "            รถสามล้อ                                   1\n",
      "dtype: int64\n"
     ]
    }
   ],
   "source": [
    "nakhonratchasima_car_type_2022 = acc_2022_cleaned[acc_2022_cleaned['จังหวัด'] == 'นครราชสีมา'].groupby(['จังหวัด','รถคันที่ 1'])\n",
    "nakhonratchasima_car_type_2022_sum = nakhonratchasima_car_type_2022.size()\n",
    "\n",
    "nakhonratchasima_car_type_2022_sum = nakhonratchasima_car_type_2022_sum.sort_values(ascending=False)\n",
    "print(nakhonratchasima_car_type_2022_sum)"
   ]
  },
  {
   "cell_type": "code",
   "execution_count": 74,
   "metadata": {},
   "outputs": [
    {
     "name": "stdout",
     "output_type": "stream",
     "text": [
      "รถคันที่ 1\n",
      "คนเดินเท้า                                 3.000000\n",
      "รถจักรยาน                                  0.666667\n",
      "รถจักรยานยนต์                             71.333333\n",
      "รถตู้                                     10.666667\n",
      "รถบรรทุก 6 ล้อ                            39.000000\n",
      "รถบรรทุกมากกว่า 10 ล้อ (รถพ่วง)           84.666667\n",
      "รถบรรทุกมากกว่า 6 ล้อ ไม่เกิน 10 ล้อ      27.666667\n",
      "รถปิคอัพบรรทุก 4 ล้อ                     281.666667\n",
      "รถปิคอัพโดยสาร                             1.000000\n",
      "รถยนต์นั่งส่วนบุคคล/รถยนต์นั่งสาธารณะ    162.666667\n",
      "รถสามล้อ                                   0.333333\n",
      "รถสามล้อเครื่อง                            1.666667\n",
      "รถอีแต๋น/เพื่อการเกษตร                     1.000000\n",
      "รถโดยสารขนาดใหญ่                           9.666667\n",
      "อื่นๆ                                     38.666667\n",
      "dtype: float64\n"
     ]
    }
   ],
   "source": [
    "nakhonratchasima_car_type_all_year = pd.concat([nakhonratchasima_car_type_2020_sum,nakhonratchasima_car_type_2021_sum,nakhonratchasima_car_type_2022_sum]) \n",
    "\n",
    "#print(nakhonratchasima_car_type_all_year)\n",
    "# group the concatenated table by the car type and calculate the total number of accidents for each car type\n",
    "nakhonratchasima_sum_car_type = nakhonratchasima_car_type_all_year.groupby('รถคันที่ 1').sum()\n",
    "#print(nakhonratchasima_sum_car_type)\n",
    "\n",
    "# calculate the mean number of accidents per year for each car type\n",
    "nakhonratchasima_avg_cartype_acc_per_year = nakhonratchasima_sum_car_type/3\n",
    "print(nakhonratchasima_avg_cartype_acc_per_year)"
   ]
  },
  {
   "cell_type": "code",
   "execution_count": null,
   "metadata": {},
   "outputs": [],
   "source": []
  }
 ],
 "metadata": {
  "kernelspec": {
   "display_name": "Python 3 (ipykernel)",
   "language": "python",
   "name": "python3"
  },
  "language_info": {
   "codemirror_mode": {
    "name": "ipython",
    "version": 3
   },
   "file_extension": ".py",
   "mimetype": "text/x-python",
   "name": "python",
   "nbconvert_exporter": "python",
   "pygments_lexer": "ipython3",
   "version": "3.9.13"
  }
 },
 "nbformat": 4,
 "nbformat_minor": 2
}
