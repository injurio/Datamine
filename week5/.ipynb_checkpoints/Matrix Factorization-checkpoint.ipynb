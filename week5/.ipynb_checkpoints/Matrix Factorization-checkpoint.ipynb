{
 "cells": [
  {
   "cell_type": "markdown",
   "metadata": {},
   "source": [
    "## Matrix Factorization\n",
    "*ref: http://www.quuxlabs.com/blog/2010/09/matrix-factorization-a-simple-tutorial-and-implementation-in-python/\n",
    "\n",
    "\n",
    "In this exercise, we will implement matrix factorization using stochastic gradient descent.\n",
    "\n",
    "Recall from the lecture, the error of entry i,j is given by \n",
    "$$e_{ij} = r_{ij} - p{ij}$$\n",
    "$$e_{ij}^2 = (r_{ij} - p_{ij})^2 = (r_{ij} - \\sum_{k=1}^K u_{ik}m_{kj})^2$$\n",
    "\n",
    "Now the partial derivatives of the square error,\n",
    "$$\\frac{\\partial e_{ij}^2}{\\partial u_{ik}} = -2(r_{ij} - p_{ij})(m_{kj}) = -2e_{ij}m_{kj}$$\n",
    "$$\\frac{\\partial e_{ij}^2}{\\partial m_{kj}} = -2(r_{ij} - p_{ij})(u_{ik}) = -2e_{ij}u_{ik}$$\n",
    "\n",
    "The update rules are:\n",
    "$$u_{ik}^{t+1} = u_{ik}^{t} - \\gamma \\frac{\\partial e_{ij}^2}{\\partial u_{ik}} = u_{ik}^{t} + 2 \\gamma e_{ij}m_{kj}$$\n",
    "$$m_{kj}^{t+1} = m_{kj}^{t} - \\gamma \\frac{\\partial e_{ij}^2}{\\partial m_{kj}} = m_{kj}^{t} + 2 \\gamma e_{ij}u_{ik}$$\n",
    "\n",
    "In addition, we will introduce a regularization term to the error term to restrict the norm of the U and M.\n",
    "$$e_{ij}^2 = (r_{ij} - \\sum_{k=1}^K u_{ik}m_{kj})^2 + \\frac{\\beta}{2}\\sum_{k=1}^K(|u_{k}|^2 + |m_{k}|^2)$$\n",
    "\n",
    "The update rules now become.\n",
    "$$u_{ik}^{t+1} = u_{ik}^{t} + \\gamma(2*e_{ij}m_{kj} - \\beta u_{ij})$$\n",
    "$$m_{kj}^{t+1} =  m_{kj}^{t} + \\gamma(2*e_{ij}u_{ik} - \\beta m_{kj})$$\n",
    "\n"
   ]
  },
  {
   "cell_type": "code",
   "execution_count": 1,
   "metadata": {},
   "outputs": [
    {
     "name": "stdout",
     "output_type": "stream",
     "text": [
      "Populating the interactive namespace from numpy and matplotlib\n"
     ]
    }
   ],
   "source": [
    "%pylab inline"
   ]
  },
  {
   "cell_type": "code",
   "execution_count": 2,
   "metadata": {
    "collapsed": true
   },
   "outputs": [],
   "source": [
    "def matrix_factorization(R, U, M, K, max_iter=7000, learning_rate=1e-4, beta=0.02, tol=1e-3):\n",
    "    M = M.T\n",
    "    U = np.copy(U)\n",
    "    M = np.copy(M)\n",
    "    x,y = np.nonzero(R)\n",
    "    for it in range(max_iter):\n",
    "        # create a random ordering\n",
    "        order = np.random.permutation(len(x))\n",
    "        for step in range(len(order)):\n",
    "            i = x[order[step]]\n",
    "            j = y[order[step]]\n",
    "            eij = R[i,j] - np.dot(U[i,:],M[:,j])\n",
    "            for k in range(K):\n",
    "                U[i,k] = U[i,k] + learning_rate*(2*eij*M[k,j] - beta*U[i,k])\n",
    "                M[k,j] = M[k,j] + learning_rate*(2*eij*U[i,k] - beta*M[k,j])\n",
    "        # calculate the error\n",
    "        P = np.dot(U,M)\n",
    "        e2 = 0\n",
    "        for step in range(len(order)):\n",
    "            i = x[order[step]]\n",
    "            j = y[order[step]]\n",
    "            e2 += pow(R[i,j] - P[i,j],2)\n",
    "            for k in range(K):\n",
    "                e2 += beta/2.0 * (pow(U[i,k],2) + pow(M[k,j],2))\n",
    "        if e2 < tol:\n",
    "            break\n",
    "    return U,M.T   "
   ]
  },
  {
   "cell_type": "code",
   "execution_count": 4,
   "metadata": {
    "collapsed": true
   },
   "outputs": [],
   "source": [
    "R = [[5,3,0,1],\n",
    "     [4,0,0,1],\n",
    "     [1,1,0,5],\n",
    "     [1,0,0,4],\n",
    "     [0,1,5,4]];\n",
    "\n",
    "R = np.array(R)\n",
    "I,J = R.shape\n",
    "K = 5\n",
    "U = np.random.rand(I,K)\n",
    "M = np.random.rand(J,K)\n",
    "nU, nM = matrix_factorization(R,U,M,K)\n",
    "P = np.dot(nU,nM.T)"
   ]
  },
  {
   "cell_type": "code",
   "execution_count": 5,
   "metadata": {},
   "outputs": [
    {
     "data": {
      "text/plain": [
       "array([[0.77477065, 0.12224586, 0.17871325, 0.51220667, 0.48125471],\n",
       "       [0.01038221, 0.14745114, 0.45686213, 0.02404972, 0.63550613],\n",
       "       [0.92150696, 0.25490223, 0.40211775, 0.36770239, 0.20446956],\n",
       "       [0.50730407, 0.02347917, 0.59709865, 0.23994137, 0.30659132],\n",
       "       [0.83435319, 0.14146713, 0.62527103, 0.35602297, 0.8573731 ]])"
      ]
     },
     "execution_count": 5,
     "metadata": {},
     "output_type": "execute_result"
    }
   ],
   "source": [
    "U"
   ]
  },
  {
   "cell_type": "code",
   "execution_count": 6,
   "metadata": {},
   "outputs": [
    {
     "data": {
      "text/plain": [
       "array([[0.23603925, 0.41515801, 0.36909459, 0.82125742, 0.30788485],\n",
       "       [0.15271146, 0.1565182 , 0.35277026, 0.27641342, 0.34219445],\n",
       "       [0.53666713, 0.20823144, 0.02853463, 0.10771943, 0.72327582],\n",
       "       [0.58133496, 0.77638873, 0.02331871, 0.36490055, 0.45230049]])"
      ]
     },
     "execution_count": 6,
     "metadata": {},
     "output_type": "execute_result"
    }
   ],
   "source": [
    "M"
   ]
  },
  {
   "cell_type": "code",
   "execution_count": 8,
   "metadata": {},
   "outputs": [
    {
     "data": {
      "text/plain": [
       "array([[0.86841429, 0.50675827, 0.84960339, 0.95405518],\n",
       "       [0.44770519, 0.40994598, 0.51154898, 0.42738387],\n",
       "       [0.8366874 , 0.49408292, 0.74659201, 0.96964079],\n",
       "       [0.64132557, 0.46302158, 0.54177695, 0.55329226],\n",
       "       [1.04281417, 0.76193235, 1.15353753, 1.12715593]])"
      ]
     },
     "execution_count": 8,
     "metadata": {},
     "output_type": "execute_result"
    }
   ],
   "source": [
    "np.dot(U,M.T)"
   ]
  },
  {
   "cell_type": "code",
   "execution_count": 9,
   "metadata": {},
   "outputs": [
    {
     "data": {
      "text/plain": [
       "array([[5.00182445, 2.92699311, 3.25847068, 1.00483056],\n",
       "       [3.96414014, 2.00800752, 2.85817908, 1.00014526],\n",
       "       [1.03994146, 0.89773875, 3.78611154, 4.97382023],\n",
       "       [0.98018978, 0.70518954, 3.26668799, 3.98090544],\n",
       "       [2.4604018 , 1.12138656, 4.95957585, 3.99261874]])"
      ]
     },
     "execution_count": 9,
     "metadata": {},
     "output_type": "execute_result"
    }
   ],
   "source": [
    "P"
   ]
  },
  {
   "cell_type": "code",
   "execution_count": 10,
   "metadata": {},
   "outputs": [
    {
     "data": {
      "text/plain": [
       "array([[5, 3, 0, 1],\n",
       "       [4, 0, 0, 1],\n",
       "       [1, 1, 0, 5],\n",
       "       [1, 0, 0, 4],\n",
       "       [0, 1, 5, 4]])"
      ]
     },
     "execution_count": 10,
     "metadata": {},
     "output_type": "execute_result"
    }
   ],
   "source": [
    "R"
   ]
  },
  {
   "cell_type": "code",
   "execution_count": 1,
   "metadata": {},
   "outputs": [
    {
     "data": {
      "image/png": "[encoded data removed]",
      "text/plain": [
       "<Figure size 640x480 with 1 Axes>"
      ]
     },
     "metadata": {},
     "output_type": "display_data"
    }
   ],
   "source": [
    "import pandas as pd\n",
    "import matplotlib.pyplot as plt\n",
    "\n",
    "# Create a DataFrame with the pre-test and post-test scores data\n",
    "data = {'Pre-test': [40,23,43,30,7,40,15,25,23,29,45,46,46,38,50,34,28,35,42,40],\n",
    "        'Post-test': [34,57,51,79,47,36,62,72,49,101,75,33,81,112,66,50,56,61,84,108]}\n",
    "df = pd.DataFrame(data)\n",
    "\n",
    "# Draw the box plot\n",
    "fig, ax = plt.subplots()\n",
    "df.boxplot(ax=ax, vert=False)\n",
    "\n",
    "# Set plot title and labels\n",
    "ax.set_title('Pre-test and Post-test Scores')\n",
    "ax.set_xlabel('Score')\n",
    "ax.set_ylabel('Test')\n",
    "\n",
    "# Show the plot\n",
    "plt.show()"
   ]
  },
  {
   "cell_type": "code",
   "execution_count": null,
   "metadata": {},
   "outputs": [],
   "source": []
  }
 ],
 "metadata": {
  "anaconda-cloud": {},
  "kernelspec": {
   "display_name": "Python 3 (ipykernel)",
   "language": "python",
   "name": "python3"
  },
  "language_info": {
   "codemirror_mode": {
    "name": "ipython",
    "version": 3
   },
   "file_extension": ".py",
   "mimetype": "text/x-python",
   "name": "python",
   "nbconvert_exporter": "python",
   "pygments_lexer": "ipython3",
   "version": "3.9.13"
  }
 },
 "nbformat": 4,
 "nbformat_minor": 1
}
