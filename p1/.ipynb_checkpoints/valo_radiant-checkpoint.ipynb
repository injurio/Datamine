{
 "cells": [
  {
   "cell_type": "code",
   "execution_count": 1,
   "metadata": {},
   "outputs": [],
   "source": [
    "import requests\n",
    "from bs4 import BeautifulSoup\n",
    "import pandas as pd\n",
    "import matplotlib.pyplot as plt\n",
    "\n",
    "# Scrape the data from the website\n",
    "url = \"https://www.valorbuff.com/weapons?mode=2&rank=8\"\n",
    "response = requests.get(url)\n",
    "soup = BeautifulSoup(response.text, \"html.parser\")"
   ]
  },
  {
   "cell_type": "code",
   "execution_count": 2,
   "metadata": {},
   "outputs": [
    {
     "name": "stdout",
     "output_type": "stream",
     "text": [
      "      Weapon  Kills\n",
      "0     Vandal  46.8%\n",
      "1    Phantom  12.5%\n",
      "2    Spectre   8.5%\n",
      "3      Ghost   6.8%\n",
      "4    Classic   3.9%\n",
      "5   Operator   3.4%\n",
      "6    Sheriff   3.1%\n",
      "7       Odin   1.5%\n",
      "8    Marshal   1.4%\n",
      "9   Guardian   1.4%\n",
      "10   Bulldog   1.3%\n",
      "11   Stinger   1.0%\n",
      "12     Judge   1.0%\n",
      "13      Ares   0.9%\n",
      "14    Frenzy   0.8%\n",
      "15    Shorty   0.4%\n",
      "16     Bucky   0.4%\n",
      "17     Knife   0.0%\n"
     ]
    }
   ],
   "source": [
    "# Extract the relevant information\n",
    "data = []\n",
    "rows = soup.find(\"table\").find(\"tbody\").find_all(\"tr\")\n",
    "for row in rows:\n",
    "    cols = row.find_all(\"td\")\n",
    "    weapon = cols[0].text.strip()\n",
    "    kills = cols[3].text.strip()\n",
    "    data.append([weapon, kills])\n",
    "\n",
    "# Store the data in a pandas DataFrame\n",
    "df = pd.DataFrame(data, columns=[\"Weapon\", \"Kills\"])\n",
    "print(df)\n"
   ]
  },
  {
   "cell_type": "code",
   "execution_count": 3,
   "metadata": {},
   "outputs": [],
   "source": [
    "import requests\n",
    "\n",
    "url = \"https://www.valorbuff.com/weapons?mode=2&rank=8\"\n",
    "response = requests.get(url)\n",
    "\n",
    "if response.status_code == 200:\n",
    "    # Successful request\n",
    "    data = response.text\n",
    "else:\n",
    "    # Request failed\n",
    "    data = None\n",
    "\n",
    "soup = BeautifulSoup(response.text, \"html.parser\")"
   ]
  },
  {
   "cell_type": "code",
   "execution_count": 12,
   "metadata": {},
   "outputs": [
    {
     "name": "stdout",
     "output_type": "stream",
     "text": [
      "      Weapon  Kills\n",
      "0     Vandal  46.8%\n",
      "1    Phantom  12.5%\n",
      "2    Spectre   8.5%\n",
      "3      Ghost   6.8%\n",
      "4    Classic   3.9%\n",
      "5   Operator   3.4%\n",
      "6    Sheriff   3.1%\n",
      "7       Odin   1.5%\n",
      "8    Marshal   1.4%\n",
      "9   Guardian   1.4%\n",
      "10   Bulldog   1.3%\n",
      "11   Stinger   1.0%\n",
      "12     Judge   1.0%\n",
      "13      Ares   0.9%\n",
      "14    Frenzy   0.8%\n",
      "15    Shorty   0.4%\n",
      "16     Bucky   0.4%\n",
      "17     Knife   0.0%\n"
     ]
    }
   ],
   "source": [
    "# Extract the relevant information\n",
    "data = []\n",
    "rows = soup.find(\"table\").find(\"tbody\").find_all(\"tr\")\n",
    "for row in rows:\n",
    "    cols = row.find_all(\"td\")\n",
    "    weapon = cols[0].text.strip()\n",
    "    kills = cols[3].text.strip()\n",
    "    data.append([weapon, kills])\n",
    "\n",
    "# Store the data in a pandas DataFrame\n",
    "df = pd.DataFrame(data, columns=[\"Weapon\", \"Kills\"])\n",
    "print(df)\n"
   ]
  },
  {
   "cell_type": "code",
   "execution_count": null,
   "metadata": {},
   "outputs": [],
   "source": []
  }
 ],
 "metadata": {
  "kernelspec": {
   "display_name": "Python 3 (ipykernel)",
   "language": "python",
   "name": "python3"
  },
  "language_info": {
   "codemirror_mode": {
    "name": "ipython",
    "version": 3
   },
   "file_extension": ".py",
   "mimetype": "text/x-python",
   "name": "python",
   "nbconvert_exporter": "python",
   "pygments_lexer": "ipython3",
   "version": "3.9.13"
  },
  "vscode": {
   "interpreter": {
    "hash": "5179d32cf6ec497baf3f8a3ef987cc77c5d2dc691fdde20a56316522f61a7323"
   }
  }
 },
 "nbformat": 4,
 "nbformat_minor": 2
}
