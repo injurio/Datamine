{
 "cells": [
  {
   "cell_type": "markdown",
   "metadata": {},
   "source": [
    "# Lecture 4: Storing Data\n",
    "\n",
    "Last update: Jan 19, 2023"
   ]
  },
  {
   "cell_type": "markdown",
   "metadata": {},
   "source": [
    "Today our focus will be storing intermediate data and results\n",
    "\n",
    "## Part 1: Pickle\n",
    "\n",
    "The simplest method for storing data is to use a builtin Python package called **pickle**. It is only suitable for small data. Some analysis has multiple steps and a step could take a lot of time. It is a good idea to store results as a pickle file to avoid repeating the long-running step.\n",
    "\n",
    "```python\n",
    "# Save a dictionary into a pickle file.\n",
    "import pickle\n",
    "\n",
    "favorite_color = { \"lion\": \"yellow\", \"kitty\": \"red\" }\n",
    "\n",
    "pickle.dump( favorite_color, open( \"save.p\", \"wb\" ) )\n",
    "\n",
    "# Load the dictionary back from the pickle file.\n",
    "import pickle\n",
    "\n",
    "favorite_color = pickle.load( open( \"save.p\", \"rb\" ) )\n",
    "# favorite_color is now { \"lion\": \"yellow\", \"kitty\": \"red\" }\n",
    "```\n"
   ]
  },
  {
   "cell_type": "code",
   "execution_count": 55,
   "metadata": {},
   "outputs": [],
   "source": [
    "# Try it out now\n",
    "import pickle\n",
    "\n",
    "favorite_color = { \"lion\": \"yellow\", \"kitty\": \"red\" }\n",
    "\n",
    "pickle.dump( favorite_color, open( \"save.p\", \"wb\" ) )\n"
   ]
  },
  {
   "cell_type": "code",
   "execution_count": 56,
   "metadata": {},
   "outputs": [],
   "source": [
    "x = pickle.load( open( \"save.p\", \"rb\" ) )"
   ]
  },
  {
   "cell_type": "code",
   "execution_count": 57,
   "metadata": {},
   "outputs": [
    {
     "name": "stdout",
     "output_type": "stream",
     "text": [
      "{'lion': 'yellow', 'kitty': 'red'}\n"
     ]
    }
   ],
   "source": [
    "print(x)"
   ]
  },
  {
   "cell_type": "code",
   "execution_count": 58,
   "metadata": {},
   "outputs": [
    {
     "name": "stdout",
     "output_type": "stream",
     "text": [
      "04-storing-data.ipynb lect04.zip            save.p\n"
     ]
    }
   ],
   "source": [
    "!ls"
   ]
  },
  {
   "cell_type": "markdown",
   "metadata": {},
   "source": [
    "## Part 2: sqlite\n",
    "\n",
    "When your data size grows to a certain point, loading all of data into memory at once is difficult to. In this case, you can store your data in a lightwight, disk-based SQL database called **sqlite**. The data can be retrived by issuing commands in a SQL-like language.\n",
    "\n",
    "```python\n",
    "import sqlite3\n",
    "conn = sqlite3.connect('example.db')\n",
    "\n",
    "c = conn.cursor()\n",
    "\n",
    "# Create table\n",
    "c.execute('''CREATE TABLE stocks\n",
    "             (date text, trans text, symbol text, qty real, price real)''')\n",
    "\n",
    "# Insert a row of data\n",
    "c.execute(\"INSERT INTO stocks VALUES ('2006-01-05','BUY','RHAT',100,35.14)\")\n",
    "\n",
    "# Save (commit) the changes\n",
    "conn.commit()\n",
    "\n",
    "# We can also close the connection if we are done with it.\n",
    "# Just be sure any changes have been committed or they will be lost.\n",
    "conn.close()\n",
    "```\n"
   ]
  },
  {
   "cell_type": "code",
   "execution_count": 59,
   "metadata": {
    "collapsed": true
   },
   "outputs": [],
   "source": [
    "# Try it out now"
   ]
  },
  {
   "cell_type": "markdown",
   "metadata": {},
   "source": [
    "## Part 3: mongodb\n",
    "\n",
    "For this part, you'll need `pymongo` and a local MongoDB.\n",
    "\n",
    "Next, we will play with one of the NoSQL engines, called **MongoDB**. It is an open-source document database that provides high performance, high availability, and automatic scaling. \n",
    "\n",
    "\n",
    "``` python\n",
    "from pymongo import MongoClient\n",
    "\n",
    "client = MongoClient('mongodb://localhost:27017/')\n",
    "\n",
    "# data base name : 'test-database-1'\n",
    "mydb = client['test-database-1']\n",
    "\n",
    "import datetime\n",
    "\n",
    "myrecord = {\n",
    "        \"author\": \"Duke\",\n",
    "        \"title\" : \"PyMongo 101\",\n",
    "        \"tags\" : [\"MongoDB\", \"PyMongo\", \"Tutorial\"],\n",
    "        \"date\" : datetime.datetime.utcnow()\n",
    "        }\n",
    "\n",
    "record_id = mydb.mytable.insert(myrecord)\n",
    "\n",
    "print record_id\n",
    "print mydb.collection_names()\n",
    "```"
   ]
  },
  {
   "cell_type": "code",
   "execution_count": 60,
   "metadata": {},
   "outputs": [
    {
     "name": "stdout",
     "output_type": "stream",
     "text": [
      "7215ee8c5d5d2bc7324d28ea413ff56c113723cd2d33eea177148b9374c93379\n"
     ]
    }
   ],
   "source": [
    "# run mongodb in docker (required docker engine)\n",
    "!docker run --name local-mongo -p 27017:27017 -d mongo"
   ]
  },
  {
   "cell_type": "code",
   "execution_count": 61,
   "metadata": {},
   "outputs": [
    {
     "name": "stdout",
     "output_type": "stream",
     "text": [
      "Requirement already satisfied: pymongo in /Users/scheaman/.pyenv/versions/3.10.5/lib/python3.10/site-packages (4.3.3)\n",
      "Requirement already satisfied: dnspython<3.0.0,>=1.16.0 in /Users/scheaman/.pyenv/versions/3.10.5/lib/python3.10/site-packages (from pymongo) (2.3.0)\n",
      "\n",
      "\u001b[1m[\u001b[0m\u001b[34;49mnotice\u001b[0m\u001b[1;39;49m]\u001b[0m\u001b[39;49m A new release of pip available: \u001b[0m\u001b[31;49m22.2\u001b[0m\u001b[39;49m -> \u001b[0m\u001b[32;49m22.3.1\u001b[0m\n",
      "\u001b[1m[\u001b[0m\u001b[34;49mnotice\u001b[0m\u001b[1;39;49m]\u001b[0m\u001b[39;49m To update, run: \u001b[0m\u001b[32;49mpip install --upgrade pip\u001b[0m\n"
     ]
    }
   ],
   "source": [
    "!pip install pymongo"
   ]
  },
  {
   "cell_type": "code",
   "execution_count": 62,
   "metadata": {},
   "outputs": [
    {
     "name": "stdout",
     "output_type": "stream",
     "text": [
      "<pymongo.results.InsertOneResult object at 0x10c48a170>\n"
     ]
    }
   ],
   "source": [
    "# Try it out\n",
    "from pymongo import MongoClient\n",
    "\n",
    "client = MongoClient('mongodb://localhost:27017/')\n",
    "\n",
    "# data base name : 'test-database-1'\n",
    "mydb = client['test-database-1']\n",
    "\n",
    "import datetime\n",
    "\n",
    "myrecord = {\n",
    "        \"author\": \"Duke\",\n",
    "        \"title\" : \"PyMongo 101\",\n",
    "        \"tags\" : [\"MongoDB\", \"PyMongo\", \"Tutorial\"],\n",
    "        \"date\" : datetime.datetime.utcnow()\n",
    "        }\n",
    "\n",
    "record_id = mydb.mytable.insert_one(myrecord)\n",
    "\n",
    "print(record_id)"
   ]
  },
  {
   "cell_type": "markdown",
   "metadata": {},
   "source": [
    "## Part 4: MySQL\n",
    "\n",
    "For this part: You'll need `pymysql` and a local MySQL server\n",
    "\n",
    "Here is an excerpt from Oracle about MySQL.\n",
    "\n",
    "MySQL, the most popular Open Source SQL database management system, is developed, distributed, and supported by Oracle Corporation.\n",
    "\n",
    "The MySQL Web site (http://www.mysql.com/) provides the latest information about MySQL software.\n",
    "\n",
    "- MySQL is a database management system.\n",
    "\n",
    "A database is a structured collection of data. It may be anything from a simple shopping list to a picture gallery or the vast amounts of information in a corporate network. To add, access, and process data stored in a computer database, you need a database management system such as MySQL Server. Since computers are very good at handling large amounts of data, database management systems play a central role in computing, as standalone utilities, or as parts of other applications.\n",
    "\n",
    "- MySQL databases are relational.\n",
    "\n",
    "A relational database stores data in separate tables rather than putting all the data in one big storeroom. The database structures are organized into physical files optimized for speed. The logical model, with objects such as databases, tables, views, rows, and columns, offers a flexible programming environment. You set up rules governing the relationships between different data fields, such as one-to-one, one-to-many, unique, required or optional, and “pointers” between different tables. The database enforces these rules, so that with a well-designed database, your application never sees inconsistent, duplicate, orphan, out-of-date, or missing data.\n",
    "\n",
    "The SQL part of “MySQL” stands for “Structured Query Language”. SQL is the most common standardized language used to access databases. Depending on your programming environment, you might enter SQL directly (for example, to generate reports), embed SQL statements into code written in another language, or use a language-specific API that hides the SQL syntax.\n",
    "\n",
    "SQL is defined by the ANSI/ISO SQL Standard. The SQL standard has been evolving since 1986 and several versions exist. In this manual, “SQL-92” refers to the standard released in 1992, “SQL:1999” refers to the standard released in 1999, and “SQL:2003” refers to the current version of the standard. We use the phrase “the SQL standard” to mean the current version of the SQL Standard at any time.\n",
    "\n",
    "Here is how you can access MySQL db from python.\n",
    "\n",
    "\n",
    "```python\n",
    "\n",
    "import pymysql.cursors\n",
    "\n",
    "# Connect to the database\n",
    "connection = pymysql.connect(host='localhost',\n",
    "                             user='user',\n",
    "                             password='passwd',\n",
    "                             db='db',\n",
    "                             charset='utf8mb4',\n",
    "                             cursorclass=pymysql.cursors.DictCursor)\n",
    "\n",
    "try:\n",
    "    with connection.cursor() as cursor:\n",
    "    \n",
    "        # drop and create a new table\n",
    "        sql = '''\n",
    "        DROP TABLE IF EXISTS `users`;\n",
    "        CREATE TABLE `users` (\n",
    "            `id` int(11) NOT NULL AUTO_INCREMENT,\n",
    "            `email` varchar(255) COLLATE utf8_bin NOT NULL,\n",
    "            `password` varchar(255) COLLATE utf8_bin NOT NULL,\n",
    "            PRIMARY KEY (`id`)\n",
    "        ) ENGINE=InnoDB DEFAULT CHARSET=utf8 COLLATE=utf8_bin\n",
    "        AUTO_INCREMENT=1\n",
    "        '''\n",
    "        cursor.execute(sql)\n",
    "        \n",
    "        # Create a new record\n",
    "        sql = \"INSERT INTO `users` (`email`, `password`) VALUES (%s, %s)\"\n",
    "        cursor.execute(sql, ('webmaster@python.org', 'very-secret'))\n",
    "\n",
    "    # connection is not autocommit by default. So you must commit to save\n",
    "    # your changes.\n",
    "    connection.commit()\n",
    "\n",
    "    with connection.cursor() as cursor:\n",
    "        # Read a single record\n",
    "        sql = \"SELECT `id`, `password` FROM `users` WHERE `email`=%s\"\n",
    "        cursor.execute(sql, ('webmaster@python.org',))\n",
    "        result = cursor.fetchone()\n",
    "        print(result)\n",
    "finally:\n",
    "    connection.close()\n",
    "\n",
    "```"
   ]
  },
  {
   "cell_type": "code",
   "execution_count": 63,
   "metadata": {},
   "outputs": [
    {
     "name": "stdout",
     "output_type": "stream",
     "text": [
      "436cb6be8ce0c6e0e5ce8eae7c974dc8b20bbbb13fb0ad6216888da2c4e6fb4d\n"
     ]
    }
   ],
   "source": [
    "# start mysql docker\n",
    "!docker run --name local-mysql \\\n",
    "    --platform=linux/amd64 \\\n",
    "    -e MYSQL_ROOT_PASSWORD=p0ssword \\\n",
    "    -e MYSQL_DATABASE=db \\\n",
    "    -e MYSQL_USER=user \\\n",
    "    -e MYSQL_PASSWORD=passwd \\\n",
    "    -d -p 3306:3306 mysql:5.7"
   ]
  },
  {
   "cell_type": "code",
   "execution_count": 66,
   "metadata": {},
   "outputs": [
    {
     "name": "stdout",
     "output_type": "stream",
     "text": [
      "{'id': 1, 'password': 'very-secret'}\n"
     ]
    }
   ],
   "source": [
    "# Try it out\n",
    "\n",
    "import pymysql.cursors\n",
    "\n",
    "# Connect to the database\n",
    "connection = pymysql.connect(host='127.0.0.1',\n",
    "                             user='user',\n",
    "                             password='passwd',\n",
    "                             db='db',\n",
    "                             charset='utf8mb4',\n",
    "                             cursorclass=pymysql.cursors.DictCursor)\n",
    "\n",
    "try:\n",
    "    with connection.cursor() as cursor:\n",
    "    \n",
    "        # drop and create a new table\n",
    "        sql = '''\n",
    "        DROP TABLE IF EXISTS `users`;\n",
    "        '''\n",
    "        cursor.execute(sql)\n",
    "        \n",
    "        sql = '''\n",
    "        CREATE TABLE `users` (\n",
    "            id INT AUTO_INCREMENT PRIMARY KEY,\n",
    "            email VARCHAR(255) NOT NULL,\n",
    "            password VARCHAR(255) NOT NULL\n",
    "        );\n",
    "        '''\n",
    "        cursor.execute(sql)\n",
    "        \n",
    "        # Create a new record\n",
    "        sql = \"INSERT INTO `users` (`email`, `password`) VALUES (%s, %s)\"\n",
    "        cursor.execute(sql, ('webmaster@python.org', 'very-secret'))\n",
    "\n",
    "    # connection is not autocommit by default. So you must commit to save\n",
    "    # your changes.\n",
    "    connection.commit()\n",
    "\n",
    "    with connection.cursor() as cursor:\n",
    "        # Read a single record\n",
    "        sql = \"SELECT `id`, `password` FROM `users` WHERE `email`=%s\"\n",
    "        cursor.execute(sql, ('webmaster@python.org',))\n",
    "        result = cursor.fetchone()\n",
    "        print(result)\n",
    "finally:\n",
    "    connection.close()\n"
   ]
  },
  {
   "cell_type": "code",
   "execution_count": 67,
   "metadata": {},
   "outputs": [
    {
     "name": "stdout",
     "output_type": "stream",
     "text": [
      "local-mysql\n",
      "local-mongo\n"
     ]
    }
   ],
   "source": [
    "# clean up\n",
    "!docker rm -f local-mysql local-mongo"
   ]
  }
 ],
 "metadata": {
  "anaconda-cloud": {},
  "kernelspec": {
   "display_name": "Python 3 (ipykernel)",
   "language": "python",
   "name": "python3"
  },
  "language_info": {
   "codemirror_mode": {
    "name": "ipython",
    "version": 3
   },
   "file_extension": ".py",
   "mimetype": "text/x-python",
   "name": "python",
   "nbconvert_exporter": "python",
   "pygments_lexer": "ipython3",
   "version": "3.9.13"
  },
  "vscode": {
   "interpreter": {
    "hash": "1afbc0bc1f29c94aca3461fb2d2b7181e7a427881d79c4638017b7478781c5c3"
   }
  }
 },
 "nbformat": 4,
 "nbformat_minor": 1
}
